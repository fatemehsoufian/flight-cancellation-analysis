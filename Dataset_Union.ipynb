{
 "cells": [
  {
   "cell_type": "code",
   "execution_count": 1,
   "id": "6426c235-d057-404e-9c57-5e19a098043b",
   "metadata": {},
   "outputs": [],
   "source": [
    "from pyspark.sql import SparkSession\n",
    "\n",
    "# Create a Spark session\n",
    "spark = SparkSession.builder.appName(\"BigDataProject\").getOrCreate()\n",
    "\n",
    "df_09 = spark.read.csv(\"2009.csv\", header=True, inferSchema=True)\n",
    "df_10 = spark.read.csv(\"2010.csv\", header=True, inferSchema=True)\n",
    "df_11 = spark.read.csv(\"2011.csv\", header=True, inferSchema=True)\n",
    "df_12 = spark.read.csv(\"2012.csv\", header=True, inferSchema=True)\n",
    "df_13 = spark.read.csv(\"2013.csv\", header=True, inferSchema=True)\n",
    "df_14 = spark.read.csv(\"2014.csv\", header=True, inferSchema=True)\n",
    "df_15 = spark.read.csv(\"2015.csv\", header=True, inferSchema=True)\n",
    "df_16 = spark.read.csv(\"2016.csv\", header=True, inferSchema=True)\n",
    "df_17 = spark.read.csv(\"2017.csv\", header=True, inferSchema=True)\n",
    "df_18 = spark.read.csv(\"2018.csv\", header=True, inferSchema=True)\n",
    "\n",
    "df_flights = spark.read.csv(\"flights.csv\", header=True, inferSchema=True)"
   ]
  },
  {
   "cell_type": "code",
   "execution_count": 2,
   "id": "dd29bb8e-517b-4121-8325-65172edebd5b",
   "metadata": {
    "scrolled": true
   },
   "outputs": [
    {
     "name": "stdout",
     "output_type": "stream",
     "text": [
      "['YEAR', 'MONTH', 'DAY', 'DAY_OF_WEEK', 'AIRLINE', 'FLIGHT_NUMBER', 'TAIL_NUMBER', 'ORIGIN_AIRPORT', 'DESTINATION_AIRPORT', 'SCHEDULED_DEPARTURE', 'DEPARTURE_TIME', 'DEPARTURE_DELAY', 'TAXI_OUT', 'WHEELS_OFF', 'SCHEDULED_TIME', 'ELAPSED_TIME', 'AIR_TIME', 'DISTANCE', 'WHEELS_ON', 'TAXI_IN', 'SCHEDULED_ARRIVAL', 'ARRIVAL_TIME', 'ARRIVAL_DELAY', 'DIVERTED', 'CANCELLED', 'CANCELLATION_REASON', 'AIR_SYSTEM_DELAY', 'SECURITY_DELAY', 'AIRLINE_DELAY', 'LATE_AIRCRAFT_DELAY', 'WEATHER_DELAY']\n",
      "----------------\n",
      "['FL_DATE', 'OP_CARRIER', 'OP_CARRIER_FL_NUM', 'ORIGIN', 'DEST', 'CRS_DEP_TIME', 'DEP_TIME', 'DEP_DELAY', 'TAXI_OUT', 'WHEELS_OFF', 'WHEELS_ON', 'TAXI_IN', 'CRS_ARR_TIME', 'ARR_TIME', 'ARR_DELAY', 'CANCELLED', 'CANCELLATION_CODE', 'DIVERTED', 'CRS_ELAPSED_TIME', 'ACTUAL_ELAPSED_TIME', 'AIR_TIME', 'DISTANCE', 'CARRIER_DELAY', 'WEATHER_DELAY', 'NAS_DELAY', 'SECURITY_DELAY', 'LATE_AIRCRAFT_DELAY', 'Unnamed: 27']\n"
     ]
    }
   ],
   "source": [
    "print(df_flights.columns)\n",
    "print(\"----------------\")\n",
    "print(df_09.columns)"
   ]
  },
  {
   "cell_type": "code",
   "execution_count": 3,
   "id": "12b9a151-722a-42dc-8767-3634edb526dc",
   "metadata": {},
   "outputs": [
    {
     "name": "stdout",
     "output_type": "stream",
     "text": [
      "Total rows: 5819079\n",
      "Distinct rows with key: 5819079\n"
     ]
    }
   ],
   "source": [
    "key_cols = [\"YEAR\", \"MONTH\", \"DAY\", \"FLIGHT_NUMBER\", \"AIRLINE\",\"DISTANCE\",\"WHEELS_ON\",\"WHEELS_OFF\",\"TAXI_IN\",\"TAXI_OUT\",\"SCHEDULED_DEPARTURE\"]\n",
    "distinct_key_count = df_flights.select(key_cols).dropDuplicates().count()\n",
    "\n",
    "total_rows_in_flight = df_flights.count()\n",
    "\n",
    "print(\"Total rows:\", total_rows_in_flight)\n",
    "print(\"Distinct rows with key:\", distinct_key_count)"
   ]
  },
  {
   "cell_type": "code",
   "execution_count": 4,
   "id": "254b07c2-32b7-457c-98b3-bbad698687d6",
   "metadata": {},
   "outputs": [
    {
     "name": "stdout",
     "output_type": "stream",
     "text": [
      "Total rows: 5819079\n",
      "Distinct rows with key: 5819079\n"
     ]
    }
   ],
   "source": [
    "key_cols = [\"FL_DATE\", \"OP_CARRIER_FL_NUM\", \"OP_CARRIER\",\"DISTANCE\",\"WHEELS_ON\",\"WHEELS_OFF\",\"TAXI_IN\",\"TAXI_OUT\",\"CRS_DEP_TIME\"]\n",
    "distinct_key_count = df_15.select(key_cols).dropDuplicates().count()\n",
    "\n",
    "total_rows = df_15.count()\n",
    "\n",
    "print(\"Total rows:\", total_rows)\n",
    "print(\"Distinct rows with key:\", distinct_key_count)"
   ]
  },
  {
   "cell_type": "code",
   "execution_count": 5,
   "id": "23f28189-28ce-481b-8bd2-00469237878a",
   "metadata": {},
   "outputs": [],
   "source": [
    "from pyspark.sql.functions import concat_ws, lpad, col\n",
    "\n",
    "# Step 1: Ensure MONTH and DAY are always 2 digits (e.g., 01, 02, ..., 12)\n",
    "df_flight_new = df_flights.withColumn(\"MONTH_PAD\", lpad(col(\"MONTH\").cast(\"string\"), 2, \"0\")) \\\n",
    "                 .withColumn(\"DAY_PAD\", lpad(col(\"DAY\").cast(\"string\"), 2, \"0\"))\n",
    "\n",
    "# Step 2: Concatenate into FL_DATE string\n",
    "df_flight_new = df_flight_new.withColumn(\"FL_DATE\", concat_ws(\"-\", col(\"YEAR\"), col(\"MONTH_PAD\"), col(\"DAY_PAD\")))"
   ]
  },
  {
   "cell_type": "code",
   "execution_count": 6,
   "id": "5d9f1586-5c1c-4fcf-9a38-48d8173210f2",
   "metadata": {},
   "outputs": [],
   "source": [
    "df_flight_new = df_flight_new.withColumnRenamed(\"AIRLINE\", \"OP_CARRIER\") \\\n",
    "                            .withColumnRenamed(\"SCHEDULED_DEPARTURE\", \"CRS_DEP_TIME\") \\\n",
    "                            .withColumnRenamed(\"FLIGHT_NUMBER\", \"OP_CARRIER_FL_NUM\")"
   ]
  },
  {
   "cell_type": "code",
   "execution_count": 7,
   "id": "facd05d8-0d03-43aa-82d9-844571b6dde0",
   "metadata": {},
   "outputs": [
    {
     "name": "stdout",
     "output_type": "stream",
     "text": [
      "✅ The datasets are 100% identical based on given key columns\n"
     ]
    }
   ],
   "source": [
    "# Define the actual key columns\n",
    "key_cols = [\"FL_DATE\", \"OP_CARRIER_FL_NUM\", \"OP_CARRIER\",\"DISTANCE\",\"WHEELS_ON\",\"WHEELS_OFF\",\"TAXI_IN\",\"TAXI_OUT\",\"CRS_DEP_TIME\"]\n",
    "\n",
    "# Select keys and remove duplicates\n",
    "df1_keys = df_flight_new.select(key_cols).dropDuplicates()\n",
    "df2_keys = df_15.select(key_cols).dropDuplicates()\n",
    "\n",
    "# Compare\n",
    "only_in_df1 = df1_keys.subtract(df2_keys)\n",
    "only_in_df2 = df2_keys.subtract(df1_keys)\n",
    "\n",
    "# Count and display differences\n",
    "count1 = only_in_df1.count()\n",
    "count2 = only_in_df2.count()\n",
    "\n",
    "if count1 == 0 and count2 == 0:\n",
    "    print(\"✅ The datasets are 100% identical based on given key columns\")\n",
    "else:\n",
    "    print(\"❌ There are differences!\")\n",
    "    print(f\"Rows only in df_flight_new: {count1}\")\n",
    "    print(f\"Rows only in df_15: {count2}\")"
   ]
  },
  {
   "cell_type": "code",
   "execution_count": 8,
   "id": "f6efbf23-2006-493c-96de-0ea1fbf43e8e",
   "metadata": {},
   "outputs": [],
   "source": [
    "df_all = df_09.union(df_10).union(df_11).union(df_12).union(df_13).union(df_14).union(df_15).union(df_16).union(df_17).union(df_18)"
   ]
  },
  {
   "cell_type": "code",
   "execution_count": 9,
   "id": "8edfff83-9c88-4ecb-9006-2dafeefeadf0",
   "metadata": {},
   "outputs": [],
   "source": [
    "df_all.write.option(\"header\", True).csv('all_flights.csv')"
   ]
  }
 ],
 "metadata": {
  "kernelspec": {
   "display_name": "Python 3 (ipykernel)",
   "language": "python",
   "name": "python3"
  },
  "language_info": {
   "codemirror_mode": {
    "name": "ipython",
    "version": 3
   },
   "file_extension": ".py",
   "mimetype": "text/x-python",
   "name": "python",
   "nbconvert_exporter": "python",
   "pygments_lexer": "ipython3",
   "version": "3.11.9"
  }
 },
 "nbformat": 4,
 "nbformat_minor": 5
}
